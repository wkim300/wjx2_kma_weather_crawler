{
 "metadata": {
  "language_info": {
   "codemirror_mode": {
    "name": "ipython",
    "version": 3
   },
   "file_extension": ".py",
   "mimetype": "text/x-python",
   "name": "python",
   "nbconvert_exporter": "python",
   "pygments_lexer": "ipython3",
   "version": "3.8.2-final"
  },
  "orig_nbformat": 2,
  "kernelspec": {
   "name": "python38264bit2f8fec766ef4471e829060eb412cb66f",
   "display_name": "Python 3.8.2 64-bit"
  }
 },
 "nbformat": 4,
 "nbformat_minor": 2,
 "cells": [
  {
   "cell_type": "code",
   "execution_count": 19,
   "metadata": {},
   "outputs": [],
   "source": [
    "import pandas as pd\n",
    "import numpy as np\n",
    "import matplotlib.pyplot as plt\n",
    "import sqlite3"
   ]
  },
  {
   "cell_type": "code",
   "execution_count": 3,
   "metadata": {},
   "outputs": [
    {
     "output_type": "execute_result",
     "data": {
      "text/plain": "    지점         시작일  종료일  지점명                               지점주소          관리관서  \\\n0  105  1911-10-03  NaN   강릉        강원도 강릉시용강동 63-20강릉자동기상관측소       강릉(구 105)   \n1  259  2009-11-10  NaN  강진군  전라남도 강진군강진읍 금릉1길48 전남수산기술사업소 강진지소    목포기상대(165)   \n2  201  1972-01-11  NaN   강화     인천광역시 강화군불은면 삼성리811-1 강화기상관측소     인천기상대(112)   \n3  294  1972-01-24  NaN   거제         경상남도 거제시장평2로 2길47 거제기상관측소   부산지방기상청(159)   \n4  284  2011-03-04  NaN   거창   경상남도 거창군거창읍 수남로2117 거창지역기상서비스센터     울산기상대(152)   \n\n        위도        경도  노장해발고도(m)  기압계(관측장비지상높이(m))  기온계(관측장비지상높이(m))  \\\n0  37.7515  128.8910      27.12             28.22               1.7   \n1  34.6261  126.7689      12.50             13.90               1.5   \n2  37.7074  126.4463      47.84             49.24               1.6   \n3  34.8882  128.6045      45.40             46.70               1.7   \n4  35.6674  127.9090     225.95            227.30               1.5   \n\n   풍속계(관측장비지상높이(m))  강우계(관측장비지상높이(m))  \n0              10.0               0.5  \n1              10.0               0.6  \n2              10.0               0.6  \n3              10.0               0.6  \n4              10.0               1.3  ",
      "text/html": "<div>\n<style scoped>\n    .dataframe tbody tr th:only-of-type {\n        vertical-align: middle;\n    }\n\n    .dataframe tbody tr th {\n        vertical-align: top;\n    }\n\n    .dataframe thead th {\n        text-align: right;\n    }\n</style>\n<table border=\"1\" class=\"dataframe\">\n  <thead>\n    <tr style=\"text-align: right;\">\n      <th></th>\n      <th>지점</th>\n      <th>시작일</th>\n      <th>종료일</th>\n      <th>지점명</th>\n      <th>지점주소</th>\n      <th>관리관서</th>\n      <th>위도</th>\n      <th>경도</th>\n      <th>노장해발고도(m)</th>\n      <th>기압계(관측장비지상높이(m))</th>\n      <th>기온계(관측장비지상높이(m))</th>\n      <th>풍속계(관측장비지상높이(m))</th>\n      <th>강우계(관측장비지상높이(m))</th>\n    </tr>\n  </thead>\n  <tbody>\n    <tr>\n      <th>0</th>\n      <td>105</td>\n      <td>1911-10-03</td>\n      <td>NaN</td>\n      <td>강릉</td>\n      <td>강원도 강릉시용강동 63-20강릉자동기상관측소</td>\n      <td>강릉(구 105)</td>\n      <td>37.7515</td>\n      <td>128.8910</td>\n      <td>27.12</td>\n      <td>28.22</td>\n      <td>1.7</td>\n      <td>10.0</td>\n      <td>0.5</td>\n    </tr>\n    <tr>\n      <th>1</th>\n      <td>259</td>\n      <td>2009-11-10</td>\n      <td>NaN</td>\n      <td>강진군</td>\n      <td>전라남도 강진군강진읍 금릉1길48 전남수산기술사업소 강진지소</td>\n      <td>목포기상대(165)</td>\n      <td>34.6261</td>\n      <td>126.7689</td>\n      <td>12.50</td>\n      <td>13.90</td>\n      <td>1.5</td>\n      <td>10.0</td>\n      <td>0.6</td>\n    </tr>\n    <tr>\n      <th>2</th>\n      <td>201</td>\n      <td>1972-01-11</td>\n      <td>NaN</td>\n      <td>강화</td>\n      <td>인천광역시 강화군불은면 삼성리811-1 강화기상관측소</td>\n      <td>인천기상대(112)</td>\n      <td>37.7074</td>\n      <td>126.4463</td>\n      <td>47.84</td>\n      <td>49.24</td>\n      <td>1.6</td>\n      <td>10.0</td>\n      <td>0.6</td>\n    </tr>\n    <tr>\n      <th>3</th>\n      <td>294</td>\n      <td>1972-01-24</td>\n      <td>NaN</td>\n      <td>거제</td>\n      <td>경상남도 거제시장평2로 2길47 거제기상관측소</td>\n      <td>부산지방기상청(159)</td>\n      <td>34.8882</td>\n      <td>128.6045</td>\n      <td>45.40</td>\n      <td>46.70</td>\n      <td>1.7</td>\n      <td>10.0</td>\n      <td>0.6</td>\n    </tr>\n    <tr>\n      <th>4</th>\n      <td>284</td>\n      <td>2011-03-04</td>\n      <td>NaN</td>\n      <td>거창</td>\n      <td>경상남도 거창군거창읍 수남로2117 거창지역기상서비스센터</td>\n      <td>울산기상대(152)</td>\n      <td>35.6674</td>\n      <td>127.9090</td>\n      <td>225.95</td>\n      <td>227.30</td>\n      <td>1.5</td>\n      <td>10.0</td>\n      <td>1.3</td>\n    </tr>\n  </tbody>\n</table>\n</div>"
     },
     "metadata": {},
     "execution_count": 3
    }
   ],
   "source": [
    "loc_df = pd.read_csv('META_관측지점정보_20200807155525.csv')\n",
    "loc_df.head()"
   ]
  },
  {
   "cell_type": "code",
   "execution_count": 4,
   "metadata": {},
   "outputs": [],
   "source": [
    "df = loc_df[['지점', '시작일', '종료일', '위도', '경도']]"
   ]
  },
  {
   "cell_type": "code",
   "execution_count": 5,
   "metadata": {},
   "outputs": [
    {
     "output_type": "execute_result",
     "data": {
      "text/plain": "    지점         시작일  종료일       위도        경도\n0  105  1911-10-03  NaN  37.7515  128.8910\n1  259  2009-11-10  NaN  34.6261  126.7689\n2  201  1972-01-11  NaN  37.7074  126.4463\n3  294  1972-01-24  NaN  34.8882  128.6045\n4  284  2011-03-04  NaN  35.6674  127.9090",
      "text/html": "<div>\n<style scoped>\n    .dataframe tbody tr th:only-of-type {\n        vertical-align: middle;\n    }\n\n    .dataframe tbody tr th {\n        vertical-align: top;\n    }\n\n    .dataframe thead th {\n        text-align: right;\n    }\n</style>\n<table border=\"1\" class=\"dataframe\">\n  <thead>\n    <tr style=\"text-align: right;\">\n      <th></th>\n      <th>지점</th>\n      <th>시작일</th>\n      <th>종료일</th>\n      <th>위도</th>\n      <th>경도</th>\n    </tr>\n  </thead>\n  <tbody>\n    <tr>\n      <th>0</th>\n      <td>105</td>\n      <td>1911-10-03</td>\n      <td>NaN</td>\n      <td>37.7515</td>\n      <td>128.8910</td>\n    </tr>\n    <tr>\n      <th>1</th>\n      <td>259</td>\n      <td>2009-11-10</td>\n      <td>NaN</td>\n      <td>34.6261</td>\n      <td>126.7689</td>\n    </tr>\n    <tr>\n      <th>2</th>\n      <td>201</td>\n      <td>1972-01-11</td>\n      <td>NaN</td>\n      <td>37.7074</td>\n      <td>126.4463</td>\n    </tr>\n    <tr>\n      <th>3</th>\n      <td>294</td>\n      <td>1972-01-24</td>\n      <td>NaN</td>\n      <td>34.8882</td>\n      <td>128.6045</td>\n    </tr>\n    <tr>\n      <th>4</th>\n      <td>284</td>\n      <td>2011-03-04</td>\n      <td>NaN</td>\n      <td>35.6674</td>\n      <td>127.9090</td>\n    </tr>\n  </tbody>\n</table>\n</div>"
     },
     "metadata": {},
     "execution_count": 5
    }
   ],
   "source": [
    "df.head()"
   ]
  },
  {
   "cell_type": "code",
   "execution_count": 8,
   "metadata": {},
   "outputs": [
    {
     "output_type": "execute_result",
     "data": {
      "text/plain": "135"
     },
     "metadata": {},
     "execution_count": 8
    }
   ],
   "source": [
    "len(df)"
   ]
  },
  {
   "cell_type": "code",
   "execution_count": 11,
   "metadata": {},
   "outputs": [
    {
     "output_type": "execute_result",
     "data": {
      "text/plain": "    지점         시작일  종료일       위도        경도\n0  105  1911-10-03  NaN  37.7515  128.8910\n1  259  2009-11-10  NaN  34.6261  126.7689\n2  201  1972-01-11  NaN  37.7074  126.4463\n3  294  1972-01-24  NaN  34.8882  128.6045\n4  284  2011-03-04  NaN  35.6674  127.9090",
      "text/html": "<div>\n<style scoped>\n    .dataframe tbody tr th:only-of-type {\n        vertical-align: middle;\n    }\n\n    .dataframe tbody tr th {\n        vertical-align: top;\n    }\n\n    .dataframe thead th {\n        text-align: right;\n    }\n</style>\n<table border=\"1\" class=\"dataframe\">\n  <thead>\n    <tr style=\"text-align: right;\">\n      <th></th>\n      <th>지점</th>\n      <th>시작일</th>\n      <th>종료일</th>\n      <th>위도</th>\n      <th>경도</th>\n    </tr>\n  </thead>\n  <tbody>\n    <tr>\n      <th>0</th>\n      <td>105</td>\n      <td>1911-10-03</td>\n      <td>NaN</td>\n      <td>37.7515</td>\n      <td>128.8910</td>\n    </tr>\n    <tr>\n      <th>1</th>\n      <td>259</td>\n      <td>2009-11-10</td>\n      <td>NaN</td>\n      <td>34.6261</td>\n      <td>126.7689</td>\n    </tr>\n    <tr>\n      <th>2</th>\n      <td>201</td>\n      <td>1972-01-11</td>\n      <td>NaN</td>\n      <td>37.7074</td>\n      <td>126.4463</td>\n    </tr>\n    <tr>\n      <th>3</th>\n      <td>294</td>\n      <td>1972-01-24</td>\n      <td>NaN</td>\n      <td>34.8882</td>\n      <td>128.6045</td>\n    </tr>\n    <tr>\n      <th>4</th>\n      <td>284</td>\n      <td>2011-03-04</td>\n      <td>NaN</td>\n      <td>35.6674</td>\n      <td>127.9090</td>\n    </tr>\n  </tbody>\n</table>\n</div>"
     },
     "metadata": {},
     "execution_count": 11
    }
   ],
   "source": [
    "df = df.drop_duplicates(subset=['지점'])\n",
    "df.head()"
   ]
  },
  {
   "cell_type": "code",
   "execution_count": 14,
   "metadata": {},
   "outputs": [
    {
     "output_type": "execute_result",
     "data": {
      "text/plain": "array([[105.    ,  37.7515, 128.891 ],\n       [259.    ,  34.6261, 126.7689],\n       [201.    ,  37.7074, 126.4463],\n       [294.    ,  34.8882, 128.6045],\n       [284.    ,  35.6674, 127.909 ]])"
     },
     "metadata": {},
     "execution_count": 14
    }
   ],
   "source": [
    "# Extract 지점, 위도, 경도\n",
    "loc_values = df[['지점', '위도','경도']].values\n",
    "loc_values[:5]"
   ]
  },
  {
   "cell_type": "code",
   "execution_count": null,
   "metadata": {},
   "outputs": [],
   "source": []
  },
  {
   "cell_type": "code",
   "execution_count": 23,
   "metadata": {},
   "outputs": [
    {
     "output_type": "execute_result",
     "data": {
      "text/plain": "<sqlite3.Cursor at 0x19a5fd82810>"
     },
     "metadata": {},
     "execution_count": 23
    }
   ],
   "source": [
    "# DB 연결 및 저장경로 설정\n",
    "save_dir='.'\n",
    "conn = sqlite3.connect(save_dir + '/wdb.db', isolation_level=None)  # auto-commit\n",
    "c = conn.cursor()\n",
    "\n",
    "# 테이블 위도, 경도 컬럼 추가\n",
    "c.execute(\"ALTER TABLE cities ADD COLUMN lat REAL DEFAULT 0\")\n",
    "c.execute(\"ALTER TABLE cities ADD COLUMN long REAL DEFAULT 0\")\n",
    "\n",
    "conn.close()"
   ]
  },
  {
   "cell_type": "code",
   "execution_count": 29,
   "metadata": {},
   "outputs": [],
   "source": [
    "# 지점(city_id)에 맞게 위도, 경도 데이터 집어넣기\n",
    "save_dir='.'\n",
    "conn = sqlite3.connect(save_dir + '/wdb.db', isolation_level=None)  # auto-commit\n",
    "c = conn.cursor()\n",
    "\n",
    "for row in loc_values:\n",
    "    # search and insert\n",
    "    c.execute(f'UPDATE cities SET lat={row[1]}, long={row[2]} WHERE city_id={int(row[0])}')\n",
    "conn.close()"
   ]
  },
  {
   "cell_type": "code",
   "execution_count": null,
   "metadata": {},
   "outputs": [],
   "source": []
  }
 ]
}